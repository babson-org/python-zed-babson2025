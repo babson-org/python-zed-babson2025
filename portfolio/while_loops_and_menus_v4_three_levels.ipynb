{
 "cells": [
  {
   "cell_type": "markdown",
   "id": "090ec1fd",
   "metadata": {},
   "source": [
    "# While Loops & Menu Systems\n",
    "\n",
    "This notebook teaches `while` loops (including nested loops) and then applies those ideas to build menu systems."
   ]
  },
  {
   "cell_type": "markdown",
   "id": "3a756d33",
   "metadata": {},
   "source": [
    "## Part 1: Simple While Loop\n",
    "A `while` loop repeats as long as a condition is `True`. We can exit early with `break`.\n",
    "\n",
    "**What this does:** prints `hello` three times, then stops."
   ]
  },
  {
   "cell_type": "code",
   "execution_count": null,
   "id": "250e6278",
   "metadata": {},
   "outputs": [],
   "source": [
    "def while_demo():\n",
    "    cnt = 0\n",
    "    while True:\n",
    "        print('hello')\n",
    "        cnt += 1\n",
    "        if cnt == 3:\n",
    "            break  # exit the loop when cnt hits 3\n",
    "\n",
    "# Run demo\n",
    "while_demo()"
   ]
  },
  {
   "cell_type": "markdown",
   "id": "46176a1b",
   "metadata": {},
   "source": [
    "## Part 1: Nested While Loops\n",
    "A loop can contain another loop. The inner loop completes for each iteration of the outer loop (unless we `break`).\n",
    "\n",
    "**What this does:**\n",
    "- Outer loop prints `hello` 3 times.\n",
    "- For the first two `hello` prints, an inner loop prints `goodbye` twice; on the third `hello`, the outer loop breaks."
   ]
  },
  {
   "cell_type": "code",
   "execution_count": null,
   "id": "45b053fb",
   "metadata": {},
   "outputs": [],
   "source": [
    "def nested_demo():\n",
    "    cnt = 0\n",
    "    while True:\n",
    "        print('hello')\n",
    "        cnt += 1\n",
    "        if cnt == 3:\n",
    "            break  # exits the outer loop on the 3rd hello\n",
    "\n",
    "        sec_cnt = 0\n",
    "        while True:\n",
    "            print('goodbye')\n",
    "            sec_cnt += 1\n",
    "            if sec_cnt == 2:\n",
    "                break  # exits the inner loop after two goodbyes\n",
    "\n",
    "# Run demo\n",
    "nested_demo()"
   ]
  },
  {
   "cell_type": "markdown",
   "id": "4015043b",
   "metadata": {},
   "source": [
    "# Part 2: Menu Systems\n",
    "We'll now use `while` loops to build command-line menus."
   ]
  },
  {
   "cell_type": "markdown",
   "id": "2042fa94",
   "metadata": {},
   "source": [
    "## The `display_menu` Helper\n",
    "This function shows a numbered list of options and returns:\n",
    "- an **integer** (1-based) if the user picks a valid option, or\n",
    "- **`None`** if the user presses `<return>` to go back."
   ]
  },
  {
   "cell_type": "code",
   "execution_count": null,
   "id": "9b936076",
   "metadata": {},
   "outputs": [],
   "source": [
    "def display_menu(items):\n",
    "    # Show the choices\n",
    "    for idx, item in enumerate(items, start=1):\n",
    "        print(f\"{idx}) {item}\")\n",
    "    print()  # spacing\n",
    "\n",
    "    prompt = \"Please enter your choice (<return> to go back): \"\n",
    "    while True:\n",
    "        choice = input(prompt)\n",
    "        if not choice:  # user pressed return\n",
    "            return None\n",
    "        try:\n",
    "            num = int(choice)\n",
    "        except ValueError:\n",
    "            prompt = \"Enter an integer: \"            \n",
    "        else:\n",
    "            if 1 <= num <= len(items):\n",
    "                return num\n",
    "            else:\n",
    "                prompt = f\"Enter an integer between 1 and {len(items)}: \"\n",
    "\n",
    "# Quick demo\n",
    "demo_choice = display_menu([\"option A\", \"option B\"])\n",
    "print(\"You selected:\", demo_choice)"
   ]
  },
  {
   "cell_type": "markdown",
   "id": "3c267dfa",
   "metadata": {},
   "source": [
    "## One-Level Menu System (2 Options)\n",
    "Keeps showing two options until the user presses `<return>`. On a valid choice, we report it and re-display the menu; on `<return>`, we exit."
   ]
  },
  {
   "cell_type": "code",
   "execution_count": null,
   "id": "bd7e844e",
   "metadata": {},
   "outputs": [],
   "source": [
    "def one_level_menu():\n",
    "    items = ['option 1', 'option 2']\n",
    "    while True:\n",
    "        choice = display_menu(items)\n",
    "        if choice is None:\n",
    "            print('exiting the system')\n",
    "            break\n",
    "        print(f'user entered {choice}, display the menu')\n",
    "\n",
    "# Run one-level menu\n",
    "one_level_menu()"
   ]
  },
  {
   "cell_type": "markdown",
   "id": "aa326257",
   "metadata": {},
   "source": [
    "## Nested Menu System (Two Levels)\n",
    "Top menu shows **option1** and **option2**.\n",
    "\n",
    "- If the user selects **option1**, show a submenu with **opt1 option1** and **opt1 option2**.\n",
    "- If the user selects **option2**, show a submenu with **opt2 option1** and **opt2 option2**.\n",
    "- `<return>` in a submenu returns to the top menu; `<return>` in the top menu exits.\n"
   ]
  },
  {
   "cell_type": "code",
   "execution_count": null,
   "id": "bbc4a37e",
   "metadata": {},
   "outputs": [],
   "source": [
    "def nested_menu():\n",
    "    while True:\n",
    "        # Top-level menu\n",
    "        items = ['option1', 'option2']\n",
    "        choice = display_menu(items)\n",
    "\n",
    "        if choice is None:\n",
    "            print('exiting the system')\n",
    "            break\n",
    "\n",
    "        elif choice == 1:\n",
    "            # Submenu for option1\n",
    "            while True:\n",
    "                sub_items = ['opt1 option1', 'opt1 option2']\n",
    "                sub_choice = display_menu(sub_items)\n",
    "                if sub_choice is None:\n",
    "                    break  # back to top menu\n",
    "                print(f'you selected: {sub_items[sub_choice-1]}')\n",
    "\n",
    "        elif choice == 2:\n",
    "            # Submenu for option2\n",
    "            while True:\n",
    "                sub_items = ['opt2 option1', 'opt2 option2']\n",
    "                sub_choice = display_menu(sub_items)\n",
    "                if sub_choice is None:\n",
    "                    break  # back to top menu\n",
    "                print(f'you selected: {sub_items[sub_choice-1]}')\n",
    "\n",
    "        # No final else: display_menu enforces valid choices (1..len(items))\n",
    "\n",
    "# Run nested menu\n",
    "nested_menu()"
   ]
  },
  {
   "cell_type": "markdown",
   "id": "89281194",
   "metadata": {},
   "source": [
    "## Three-Level Menu System (Final Outcomes: 11, 12, 21, 22)\n",
    "\n",
    "Top-level shows **option1** and **option2**. Each leads to its own submenu:\n",
    "- Selecting **option1** → submenu with **opt1 option1** and **opt1 option2**\n",
    "- Selecting **option2** → submenu with **opt2 option1** and **opt2 option2**\n",
    "\n",
    "At the **final level**, we don't have more menus—just an action loop that keeps printing output until the user presses `<return>` to go back up one level.\n",
    "\n",
    "**Why call `display_menu()` each time?**\n",
    "- We call it at the start of each loop to *render the current menu* and *collect a fresh choice* from the user.\n",
    "- When the user presses `<return>`, `display_menu()` returns `None`, which we use to break out of the current loop and go **back** one level.\n",
    "\n",
    "**Why _not_ call `display_menu()` in the final loop?**\n",
    "- There is no deeper submenu at the final level (11, 12, 21, 22). We only want to repeatedly show output and allow the user to press `<return>` to go back, so a simple input prompt is enough."
   ]
  },
  {
   "cell_type": "code",
   "execution_count": null,
   "id": "1df5df7b",
   "metadata": {},
   "outputs": [],
   "source": [
    "def nested_menu_three_levels():\n",
    "    while True:\n",
    "        # --- Top-level menu ---\n",
    "        top_items = ['option1', 'option2']\n",
    "        top_choice = display_menu(top_items)  # Call here to render top menu and get choice\n",
    "\n",
    "        if top_choice is None:\n",
    "            print('exiting the system')\n",
    "            break\n",
    "\n",
    "        elif top_choice == 1:\n",
    "            # --- Second-level menu for option1 ---\n",
    "            while True:\n",
    "                sub1_items = ['opt1 option1', 'opt1 option2']\n",
    "                sub1_choice = display_menu(sub1_items)  # Render submenu and get choice\n",
    "\n",
    "                if sub1_choice is None:\n",
    "                    break  # go back to top-level menu\n",
    "\n",
    "                elif sub1_choice == 1:\n",
    "                    # --- Final level: Outcome (1,1) ---\n",
    "                    while True:\n",
    "                        print('output for (1, 1)')\n",
    "                        # No display_menu() here because there is no deeper submenu—just wait for return\n",
    "                        back = input('Press <return> to go back: ')\n",
    "                        if not back:\n",
    "                            break  # back to second-level menu (option1 submenu)\n",
    "\n",
    "                elif sub1_choice == 2:\n",
    "                    # --- Final level: Outcome (1,2) ---\n",
    "                    while True:\n",
    "                        print('output for (1, 2)')\n",
    "                        # No display_menu() here because there is no deeper submenu—just wait for return\n",
    "                        back = input('Press <return> to go back: ')\n",
    "                        if not back:\n",
    "                            break  # back to second-level menu (option1 submenu)\n",
    "\n",
    "        elif top_choice == 2:\n",
    "            # --- Second-level menu for option2 ---\n",
    "            while True:\n",
    "                sub2_items = ['opt2 option1', 'opt2 option2']\n",
    "                sub2_choice = display_menu(sub2_items)  # Render submenu and get choice\n",
    "\n",
    "                if sub2_choice is None:\n",
    "                    break  # go back to top-level menu\n",
    "\n",
    "                elif sub2_choice == 1:\n",
    "                    # --- Final level: Outcome (2,1) ---\n",
    "                    while True:\n",
    "                        print('output for (2, 1)')\n",
    "                        # No display_menu() here because there is no deeper submenu—just wait for return\n",
    "                        back = input('Press <return> to go back: ')\n",
    "                        if not back:\n",
    "                            break  # back to second-level menu (option2 submenu)\n",
    "\n",
    "                elif sub2_choice == 2:\n",
    "                    # --- Final level: Outcome (2,2) ---\n",
    "                    while True:\n",
    "                        print('output for (2, 2)')\n",
    "                        # No display_menu() here because there is no deeper submenu—just wait for return\n",
    "                        back = input('Press <return> to go back: ')\n",
    "                        if not back:\n",
    "                            break  # back to second-level menu (option2 submenu)\n",
    "\n",
    "# Run the three-level menu demo\n",
    "nested_menu_three_levels()"
   ]
  }
 ],
 "metadata": {
  "kernelspec": {
   "display_name": "venv",
   "language": "python",
   "name": "python3"
  },
  "language_info": {
   "codemirror_mode": {
    "name": "ipython",
    "version": 3
   },
   "file_extension": ".py",
   "mimetype": "text/x-python",
   "name": "python",
   "nbconvert_exporter": "python",
   "pygments_lexer": "ipython3",
   "version": "3.10.18"
  }
 },
 "nbformat": 4,
 "nbformat_minor": 5
}
