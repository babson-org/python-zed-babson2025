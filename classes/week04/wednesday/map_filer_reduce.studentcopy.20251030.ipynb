{
 "cells": [
  {
   "cell_type": "markdown",
   "id": "0",
   "metadata": {},
   "source": [
    "# Section 1 – map()"
   ]
  },
  {
   "cell_type": "code",
   "execution_count": null,
   "id": "1",
   "metadata": {},
   "outputs": [],
   "source": [
    "nums = [1, 2, 3, 4]\n",
    "\n",
    "# Lambda version\n",
    "squared_iter = map(lambda x: x**2, nums)\n",
    "print(squared_iter)          # <map object at 0x...>\n",
    "print(list(squared_iter))    # [1, 4, 9, 16]\n",
    "\n",
    "# Named function version\n",
    "def square(x):\n",
    "    return x**2\n",
    "\n",
    "squared_iter = map(square, nums)\n",
    "print(list(squared_iter))    # [1, 4, 9, 16]"
   ]
  },
  {
   "cell_type": "markdown",
   "id": "2",
   "metadata": {},
   "source": [
    "# Section 2 – filter()"
   ]
  },
  {
   "cell_type": "code",
   "execution_count": null,
   "id": "3",
   "metadata": {},
   "outputs": [],
   "source": [
    "nums = [1, 2, 3, 4, 5, 6]\n",
    "\n",
    "# Lambda version\n",
    "evens_iter = filter(lambda x: x % 2 == 0, nums)\n",
    "print(evens_iter)            # <filter object at 0x...>\n",
    "print(list(evens_iter))      # [2, 4, 6]\n",
    "\n",
    "# Named function version\n",
    "def is_even(x):\n",
    "    return x % 2 == 0\n",
    "\n",
    "evens_iter = filter(is_even, nums)\n",
    "print(list(evens_iter))      # [2, 4, 6]"
   ]
  },
  {
   "cell_type": "markdown",
   "id": "4",
   "metadata": {},
   "source": [
    "# Section 3 – reduce()"
   ]
  },
  {
   "cell_type": "code",
   "execution_count": null,
   "id": "5",
   "metadata": {},
   "outputs": [],
   "source": [
    "from functools import reduce\n",
    "\n",
    "nums = [1, 2, 3, 4]\n",
    "\n",
    "# Lambda version\n",
    "product = reduce(lambda x, y: x * y, nums)\n",
    "print(product)               # 24\n",
    "\n",
    "# Named function version\n",
    "def multiply(x, y):\n",
    "    return x * y\n",
    "\n",
    "product = reduce(multiply, nums)\n",
    "print(product)               # 24"
   ]
  }
 ],
 "metadata": {
  "kernelspec": {
   "display_name": "venv",
   "language": "python",
   "name": "python3"
  },
  "language_info": {
   "codemirror_mode": {
    "name": "ipython",
    "version": 3
   },
   "file_extension": ".py",
   "mimetype": "text/x-python",
   "name": "python",
   "nbconvert_exporter": "python",
   "pygments_lexer": "ipython3",
   "version": "3.10.18"
  }
 },
 "nbformat": 4,
 "nbformat_minor": 5
}
