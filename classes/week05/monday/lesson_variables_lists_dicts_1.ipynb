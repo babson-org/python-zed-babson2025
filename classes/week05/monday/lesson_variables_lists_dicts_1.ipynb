{
 "cells": [
  {
   "cell_type": "markdown",
   "id": "feaaab92",
   "metadata": {},
   "source": [
    "# 📘 Variables, Lists, and Dictionaries\n",
    "\n",
    "### Objective\n",
    "Scalars and data structures in Python. Each code cell demonstrates one concept or print statement for clarity."
   ]
  },
  {
   "cell_type": "markdown",
   "id": "383bb717",
   "metadata": {},
   "source": [
    "## 1. Introduction: Variables"
   ]
  },
  {
   "cell_type": "markdown",
   "id": "4c9fcde8",
   "metadata": {},
   "source": [
    "Variables are containers that hold data. Every variable has a data type.\n",
    "\n",
    "- If a variable holds a single value → **scalar** (or primitive).\n",
    "- If it holds multiple values → **data structure**."
   ]
  },
  {
   "cell_type": "code",
   "execution_count": null,
   "id": "4edb78d5",
   "metadata": {},
   "outputs": [],
   "source": [
    "print_flag = False"
   ]
  },
  {
   "cell_type": "markdown",
   "id": "b0ddae47",
   "metadata": {},
   "source": [
    "**Guiding Question:**\n",
    "\n",
    "👉 What type of variable is this?"
   ]
  },
  {
   "cell_type": "markdown",
   "id": "f620a725",
   "metadata": {},
   "source": [
    "## 2. Scalars / Primitive Variables"
   ]
  },
  {
   "cell_type": "code",
   "execution_count": null,
   "id": "176541c8",
   "metadata": {},
   "outputs": [],
   "source": [
    "fname = 'Peggy'           # string\n",
    "lname = 'Lipton'          # string\n",
    "dob   = '2006-08-30'      # string\n",
    "year  = 'Senior'          # string\n",
    "attendance_rate = 0.92    # float\n",
    "credits = 122"
   ]
  },
  {
   "cell_type": "markdown",
   "id": "1fe19031",
   "metadata": {},
   "source": [
    "**Guiding Question:**\n",
    "\n",
    "👉 How many different types of variables do we have here?"
   ]
  },
  {
   "cell_type": "markdown",
   "id": "9c53c10f",
   "metadata": {},
   "source": [
    "## 3. Motivation for Data Structures"
   ]
  },
  {
   "cell_type": "markdown",
   "id": "9491122a",
   "metadata": {},
   "source": [
    "The data is expressed as separate items but all the items relate to the same entity. It makes more sense to keep this data in a data structure."
   ]
  },
  {
   "cell_type": "markdown",
   "id": "3d64f14f",
   "metadata": {},
   "source": [
    "**Guiding Question:**\n",
    "\n",
    "👉 What kind of data structure could we use to represent this student? Why?"
   ]
  },
  {
   "cell_type": "markdown",
   "id": "f924b18c",
   "metadata": {},
   "source": [
    "## 4. Lists"
   ]
  },
  {
   "cell_type": "code",
   "execution_count": null,
   "id": "40552004",
   "metadata": {},
   "outputs": [],
   "source": [
    "student = [fname, lname, dob, year, attendance_rate, credits]"
   ]
  },
  {
   "cell_type": "code",
   "execution_count": null,
   "id": "37a414c3",
   "metadata": {},
   "outputs": [],
   "source": [
    "print(student[3])"
   ]
  },
  {
   "cell_type": "markdown",
   "id": "6c4e7589",
   "metadata": {},
   "source": [
    "**Guiding Question:**\n",
    "\n",
    "👉 What does the programmer have to know in order to use this student list correctly?"
   ]
  },
  {
   "cell_type": "markdown",
   "id": "4c863cbe",
   "metadata": {},
   "source": [
    "## 5. Dictionaries"
   ]
  },
  {
   "cell_type": "code",
   "execution_count": null,
   "id": "3b82c2be",
   "metadata": {},
   "outputs": [],
   "source": [
    "student = {\n",
    "    'fname': 'Peggy',\n",
    "    'lname': 'Lipton',\n",
    "    'dob': '2006-08-30',\n",
    "    'year': 'Senior',\n",
    "    'attendance_rate': 0.92,\n",
    "    'credits': 122\n",
    "}"
   ]
  },
  {
   "cell_type": "code",
   "execution_count": null,
   "id": "b31a66b3",
   "metadata": {},
   "outputs": [],
   "source": [
    "print(student['year'])"
   ]
  },
  {
   "cell_type": "code",
   "execution_count": null,
   "id": "f05afd4e",
   "metadata": {},
   "outputs": [],
   "source": [
    "for key in student:\n",
    "    print(key)"
   ]
  },
  {
   "cell_type": "code",
   "execution_count": null,
   "id": "02f30d2d",
   "metadata": {},
   "outputs": [],
   "source": [
    "for key in student.keys():\n",
    "    print(key)"
   ]
  },
  {
   "cell_type": "code",
   "execution_count": null,
   "id": "6f3fbb53",
   "metadata": {},
   "outputs": [],
   "source": [
    "for value in student.values():\n",
    "    print(value)"
   ]
  },
  {
   "cell_type": "code",
   "execution_count": null,
   "id": "61f4b4d7",
   "metadata": {},
   "outputs": [],
   "source": [
    "for key, value in student.items():\n",
    "    print(f\"{key} = {value}\")"
   ]
  },
  {
   "cell_type": "code",
   "execution_count": null,
   "id": "d7792f4b",
   "metadata": {},
   "outputs": [],
   "source": [
    "print(student.get('gpa'))"
   ]
  },
  {
   "cell_type": "code",
   "execution_count": null,
   "id": "fc5842b6",
   "metadata": {},
   "outputs": [],
   "source": [
    "print(student.get('gpa', 'NEEDS TO STUDY'))"
   ]
  },
  {
   "cell_type": "code",
   "execution_count": null,
   "id": "5500ad0e",
   "metadata": {},
   "outputs": [],
   "source": [
    "student.setdefault('gpa', 0.0)\n",
    "print(student)"
   ]
  },
  {
   "cell_type": "markdown",
   "id": "7bfead3a",
   "metadata": {},
   "source": [
    "## 6a. List of Lists"
   ]
  },
  {
   "cell_type": "code",
   "execution_count": null,
   "id": "30a1d767",
   "metadata": {},
   "outputs": [],
   "source": [
    "board = [\n",
    "    [1,2,3],\n",
    "    [4,5,6],\n",
    "    [7,8,9]\n",
    "]"
   ]
  },
  {
   "cell_type": "code",
   "execution_count": null,
   "id": "d6cf02bd",
   "metadata": {},
   "outputs": [],
   "source": [
    "for row in board:\n",
    "    print(row)"
   ]
  },
  {
   "cell_type": "code",
   "execution_count": null,
   "id": "f556cd4c",
   "metadata": {},
   "outputs": [],
   "source": [
    "for row in range(3):\n",
    "    for col in range(3):\n",
    "        print(str(board[row][col]) + ' ', end='')\n",
    "    print()"
   ]
  },
  {
   "cell_type": "markdown",
   "id": "64ca8f4d",
   "metadata": {},
   "source": [
    "**Guiding Question:**\n",
    "\n",
    "👉 Why did we need `str()` here?"
   ]
  },
  {
   "cell_type": "markdown",
   "id": "6a56cc4a",
   "metadata": {},
   "source": [
    "## 6b. List of Dictionaries"
   ]
  },
  {
   "cell_type": "code",
   "execution_count": null,
   "id": "59d0f1d3",
   "metadata": {},
   "outputs": [],
   "source": [
    "students = []\n",
    "students.append(student)\n",
    "from pprint import pprint\n",
    "pprint(students)"
   ]
  },
  {
   "cell_type": "code",
   "execution_count": null,
   "id": "2580208c",
   "metadata": {},
   "outputs": [],
   "source": [
    "courses = ['Biology','Physics','Topology','20th Century Poets']\n",
    "student['courses'] = courses\n",
    "print(students[0]['courses'][2])"
   ]
  },
  {
   "cell_type": "markdown",
   "id": "7995e014",
   "metadata": {},
   "source": [
    "## 📝 Practice Problems "
   ]
  },
  {
   "cell_type": "markdown",
   "id": "a5fd73fb",
   "metadata": {},
   "source": [
    "**1. Create a dictionary `attendance` with three students as keys and the number of classes they attended as values. Print the student with the highest attendance.**"
   ]
  },
  {
   "cell_type": "code",
   "execution_count": null,
   "id": "0439b5e9",
   "metadata": {},
   "outputs": [],
   "source": [
    "attendance = {'Alice': 18, 'Bob': 20, 'Carol': 15}\n"
   ]
  },
  {
   "cell_type": "markdown",
   "id": "72da8512",
   "metadata": {},
   "source": [
    "**2. Represent a deck of four playing cards using a list of dictionaries, where each dict has `'rank'` and `'suit'`. Print the suit of the third card.**"
   ]
  },
  {
   "cell_type": "code",
   "execution_count": null,
   "id": "9edc32f0",
   "metadata": {},
   "outputs": [],
   "source": []
  },
  {
   "cell_type": "markdown",
   "id": "da54ed30",
   "metadata": {},
   "source": [
    "**3. Create a 3×3 tic-tac-toe board as a list of lists. Write code to mark the center square with `'X'`.**"
   ]
  },
  {
   "cell_type": "code",
   "execution_count": null,
   "id": "43533bcb",
   "metadata": {},
   "outputs": [],
   "source": []
  },
  {
   "cell_type": "markdown",
   "id": "998a0e22",
   "metadata": {},
   "source": [
    "**4. Suppose you have a dictionary of courses with course names as keys and credit hours as values. Write code to compute the total credit hours.**"
   ]
  },
  {
   "cell_type": "code",
   "execution_count": null,
   "id": "c32bf81f",
   "metadata": {},
   "outputs": [],
   "source": []
  },
  {
   "cell_type": "markdown",
   "id": "26767986",
   "metadata": {},
   "source": [
    "**5. Given a list of tuples like `[('Alice', 3.5), ('Bob', 2.8)]`, convert it into a dictionary mapping student names to GPAs.**"
   ]
  },
  {
   "cell_type": "code",
   "execution_count": null,
   "id": "df4eb22b",
   "metadata": {},
   "outputs": [],
   "source": []
  },
  {
   "cell_type": "markdown",
   "id": "6c75d7f7",
   "metadata": {},
   "source": [
    "**6. Extend the `student` dictionary to include a key `'clubs'` that stores a list of extracurricular activities. Add two clubs and print the updated dict.**"
   ]
  },
  {
   "cell_type": "code",
   "execution_count": null,
   "id": "aa972f8e",
   "metadata": {},
   "outputs": [],
   "source": []
  }
 ],
 "metadata": {
  "kernelspec": {
   "display_name": "venv",
   "language": "python",
   "name": "python3"
  },
  "language_info": {
   "codemirror_mode": {
    "name": "ipython",
    "version": 3
   },
   "file_extension": ".py",
   "mimetype": "text/x-python",
   "name": "python",
   "nbconvert_exporter": "python",
   "pygments_lexer": "ipython3",
   "version": "3.10.18"
  }
 },
 "nbformat": 4,
 "nbformat_minor": 5
}
