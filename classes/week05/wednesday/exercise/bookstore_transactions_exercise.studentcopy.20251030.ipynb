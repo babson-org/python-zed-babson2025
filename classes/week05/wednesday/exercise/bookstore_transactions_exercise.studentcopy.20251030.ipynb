{
 "cells": [
  {
   "cell_type": "markdown",
   "id": "0",
   "metadata": {},
   "source": [
    "# 📚 Bookstore Transactions Exercise"
   ]
  },
  {
   "cell_type": "markdown",
   "id": "1",
   "metadata": {},
   "source": [
    "\n",
    "In this exercise, you'll work with a list of bookstore transactions.  \n",
    "Each transaction is represented as a dictionary with the following keys:\n",
    "\n",
    "- `item` → name of the book (string)  \n",
    "- `type` → `\"PURCHASE\"` or `\"SALE\"`  \n",
    "- `quantity` → number of copies (int)  \n",
    "- `unit_price` → price per copy (float)  \n",
    "- `total_amt` → total amount (should equal `quantity * unit_price`)  \n",
    "\n",
    "---\n",
    "\n",
    "### Step 1: Fix Incorrect Totals\n",
    "One of the transactions has the wrong `total_amt`.  \n",
    "Loop through the list and check if:  \n",
    "\n",
    "```python\n",
    "quantity * unit_price != total_amt\n",
    "```\n",
    "If it’s wrong, fix it.\n",
    "\n",
    "---\n",
    "\n",
    "### Step 2: Calculate Ending Cash in Register\n",
    "Assume starting `cash = 0`.  \n",
    "Rules:  \n",
    "- `SALE` → add `total_amt` to cash  \n",
    "- `PURCHASE` → subtract `total_amt` from cash  \n",
    "\n",
    "At the end, print the final cash register balance.\n",
    "\n",
    "---\n",
    "\n",
    "👉 Try to solve this in about **20 minutes**.\n"
   ]
  },
  {
   "cell_type": "code",
   "execution_count": null,
   "id": "2",
   "metadata": {},
   "outputs": [],
   "source": [
    "# Example data: 7 bookstore transactions\n",
    "transactions = [\n",
    "    {\"item\": \"Python 101\", \"type\": \"PURCHASE\", \"quantity\": 10, \"unit_price\": 20, \"total_amt\": 200},\n",
    "    {\"item\": \"Python 101\", \"type\": \"SALE\", \"quantity\": 4, \"unit_price\": 25, \"total_amt\": 100},\n",
    "    {\"item\": \"AI for Beginners\", \"type\": \"SALE\", \"quantity\": 2, \"unit_price\": 30, \"total_amt\": 60},\n",
    "    {\"item\": \"Data Science 101\", \"type\": \"PURCHASE\", \"quantity\": 5, \"unit_price\": 40, \"total_amt\": 300},  \n",
    "    {\"item\": \"ML Basics\", \"type\": \"SALE\", \"quantity\": 3, \"unit_price\": 35, \"total_amt\": 105},\n",
    "    {\"item\": \"Deep Learning Guide\", \"type\": \"PURCHASE\", \"quantity\": 7, \"unit_price\": 50, \"total_amt\": 350},\n",
    "    {\"item\": \"AI for Beginners\", \"type\": \"SALE\", \"quantity\": 1, \"unit_price\": 30, \"total_amt\": 30}\n",
    "]\n",
    "\n",
    "correct_total = trn['quantity'] * trn ['price']\n",
    "    if correct_total != trn['total']\n",
    "                    \n",
    "                    ]\n",
    "# TODO: Step 1 - Fix incorrect totals\n",
    "# Loop through the transactions list\n",
    "# for each transaction check if quantity * price = total_amt\n",
    "# if it isn't update with the correct amount\n",
    "\n",
    "\n",
    "# TODO: Step 2 - Calculate ending cash\n",
    "# set cash = 0\n",
    "# loop through the transactions list\n",
    "# for each transaction add to the cash balance if type = 'SALE'\n",
    "# and subtract from cash if type = 'PURCHASE'\n",
    "\n",
    "\n",
    "print(\"Final cash balance:\", cash)\n",
    "\n"
   ]
  }
 ],
 "metadata": {
  "kernelspec": {
   "display_name": "Python 3",
   "language": "python",
   "name": "python3"
  },
  "language_info": {
   "codemirror_mode": {
    "name": "ipython",
    "version": 3
   },
   "file_extension": ".py",
   "mimetype": "text/x-python",
   "name": "python",
   "nbconvert_exporter": "python",
   "pygments_lexer": "ipython3",
   "version": "3.10.11"
  }
 },
 "nbformat": 4,
 "nbformat_minor": 5
}
