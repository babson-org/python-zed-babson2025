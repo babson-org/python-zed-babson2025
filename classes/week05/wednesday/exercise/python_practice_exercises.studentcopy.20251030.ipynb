{
 "cells": [
  {
   "cell_type": "markdown",
   "id": "0",
   "metadata": {},
   "source": [
    "# 📝 Python Practice Exercises\n",
    "This notebook contains 20 exercises based on Python fundamentals."
   ]
  },
  {
   "cell_type": "markdown",
   "id": "1",
   "metadata": {},
   "source": [
    "**Exercise 1: Arithmetic Practice**\n",
    "\n",
    "Write Python expressions that calculate:\n",
    "- 7 squared\n",
    "- the remainder of 29 divided by 5\n",
    "- floor division of 29 by 5"
   ]
  },
  {
   "cell_type": "code",
   "execution_count": null,
   "id": "2",
   "metadata": {},
   "outputs": [],
   "source": [
    "squared == 7**2\n",
    "remain = 29 % 5\n",
    "floor = 29 // 5\n",
    "\n",
    "print(squared,remain,floor)"
   ]
  },
  {
   "cell_type": "markdown",
   "id": "3",
   "metadata": {},
   "source": [
    "**Exercise 2: Comparison Chain**\n",
    "\n",
    "Check if the variable `x = 7` is greater than 5 and less than 10 in one statement."
   ]
  },
  {
   "cell_type": "code",
   "execution_count": null,
   "id": "4",
   "metadata": {},
   "outputs": [],
   "source": []
  },
  {
   "cell_type": "markdown",
   "id": "5",
   "metadata": {},
   "source": [
    "**Exercise 3: Logical Operators**\n",
    "\n",
    "Write code that checks whether `'b'` is in `'zebra'` **and** `'c'` is not in `'zebra'`."
   ]
  },
  {
   "cell_type": "code",
   "execution_count": null,
   "id": "6",
   "metadata": {},
   "outputs": [],
   "source": [
    "if 'b' in 'zebra' and 'c' not in 'zebra':\n",
    "    print(\"Condition is True\")\n",
    "else:\n",
    "    print(\"Condition is False\")\n"
   ]
  },
  {
   "cell_type": "markdown",
   "id": "7",
   "metadata": {},
   "source": [
    "**Exercise 4: For Loop Range**\n",
    "\n",
    "Use a `for` loop with `range()` to print the numbers 10 down to 1."
   ]
  },
  {
   "cell_type": "code",
   "execution_count": null,
   "id": "8",
   "metadata": {},
   "outputs": [],
   "source": [
    "for i in range(10, 0, -1):\n",
    "    print(i)\n"
   ]
  },
  {
   "cell_type": "markdown",
   "id": "9",
   "metadata": {},
   "source": [
    "**Exercise 5: While Loop Counter**\n",
    "\n",
    "Write a `while` loop that counts from 0 to 4 and prints the numbers."
   ]
  },
  {
   "cell_type": "code",
   "execution_count": null,
   "id": "10",
   "metadata": {},
   "outputs": [],
   "source": [
    "count = 0\n",
    "while count <= 4:\n",
    "    print(count)\n",
    "    count += 1\n"
   ]
  },
  {
   "cell_type": "markdown",
   "id": "11",
   "metadata": {},
   "source": [
    "**Exercise 6: Simple List Operations**\n",
    "\n",
    "Create a list `[1, 2, 3]`, append the number `4`, and then remove `2`. Print the final list."
   ]
  },
  {
   "cell_type": "code",
   "execution_count": null,
   "id": "12",
   "metadata": {},
   "outputs": [],
   "source": [
    "numbers = [1, 2, 3]   # create the list\n",
    "numbers.append(4)     # append 4\n",
    "numbers.remove(2)     # remove 2\n",
    "print(numbers)        # print final list\n"
   ]
  },
  {
   "cell_type": "markdown",
   "id": "13",
   "metadata": {},
   "source": [
    "**Exercise 7: Tuple Count**\n",
    "\n",
    "Given `t = (1, 2, 2, 3)`, use a tuple method to count how many times `2` appears."
   ]
  },
  {
   "cell_type": "code",
   "execution_count": null,
   "id": "14",
   "metadata": {},
   "outputs": [],
   "source": [
    "t = (1, 2, 2, 3)\n",
    "print(t.count(2))\n"
   ]
  },
  {
   "cell_type": "markdown",
   "id": "15",
   "metadata": {},
   "source": [
    "**Exercise 8: Set Creation**\n",
    "\n",
    "Create a set from the string `'balloon'` and print it. Explain why some letters only appear once."
   ]
  },
  {
   "cell_type": "code",
   "execution_count": null,
   "id": "16",
   "metadata": {},
   "outputs": [],
   "source": [
    "word = \"balloon\"\n",
    "letters = set(word)\n",
    "print(letters)\n"
   ]
  },
  {
   "cell_type": "markdown",
   "id": "17",
   "metadata": {},
   "source": [
    "**Exercise 9: If/Else with Input**\n",
    "\n",
    "Ask the user for a number. Print `'Even'` if the number is even, otherwise print `'Odd'`."
   ]
  },
  {
   "cell_type": "code",
   "execution_count": null,
   "id": "18",
   "metadata": {},
   "outputs": [],
   "source": [
    "num = int(input(\"Enter a number: \"))\n",
    "\n",
    "if num % 2 == 0:\n",
    "    print(\"Even\")\n",
    "else:\n",
    "    print(\"Odd\")\n"
   ]
  },
  {
   "cell_type": "markdown",
   "id": "19",
   "metadata": {},
   "source": [
    "**Exercise 10: Fix Wrong Dictionary Value**\n",
    "\n",
    "`student = {\"name\": \"Alice\", \"age\": 20, \"grade\": 85}`\n",
    "\n",
    "Accidentally, grade should have been `90`. Update it using `update()`."
   ]
  },
  {
   "cell_type": "code",
   "execution_count": null,
   "id": "20",
   "metadata": {},
   "outputs": [],
   "source": [
    "student = {\"name\": \"Alice\", \"age\": 20, \"grade\": 85}\n",
    "\n",
    "# Update grade to 90\n",
    "student.update({\"grade\": 90})\n",
    "\n",
    "print(student)\n"
   ]
  },
  {
   "cell_type": "markdown",
   "id": "21",
   "metadata": {},
   "source": [
    "**Exercise 11: Using pop() on Lists**\n",
    "\n",
    "Create `nums = [10, 20, 30, 40]`.\n",
    "- Pop the last number\n",
    "- Pop the first number\n",
    "Print the final list."
   ]
  },
  {
   "cell_type": "code",
   "execution_count": null,
   "id": "22",
   "metadata": {},
   "outputs": [],
   "source": []
  },
  {
   "cell_type": "markdown",
   "id": "23",
   "metadata": {},
   "source": [
    "**Exercise 12: Dictionary Safe Lookup**\n",
    "\n",
    "Given `student = {\"name\": \"Alice\"}`, use `.get()` to print `'N/A'` if `'grade'` does not exist."
   ]
  },
  {
   "cell_type": "code",
   "execution_count": null,
   "id": "24",
   "metadata": {},
   "outputs": [],
   "source": []
  },
  {
   "cell_type": "markdown",
   "id": "25",
   "metadata": {},
   "source": [
    "**Exercise 13: Loop + If**\n",
    "\n",
    "Loop through the list `[2, 5, 8, 11, 14]`. Print only the numbers greater than 10."
   ]
  },
  {
   "cell_type": "code",
   "execution_count": null,
   "id": "26",
   "metadata": {},
   "outputs": [],
   "source": []
  },
  {
   "cell_type": "markdown",
   "id": "27",
   "metadata": {},
   "source": [
    "**Exercise 14: Try/Except Handling**\n",
    "\n",
    "Ask the user for an integer. If they type something invalid, print `'Invalid input'` instead of crashing."
   ]
  },
  {
   "cell_type": "code",
   "execution_count": null,
   "id": "28",
   "metadata": {},
   "outputs": [],
   "source": []
  },
  {
   "cell_type": "markdown",
   "id": "29",
   "metadata": {},
   "source": [
    "**Exercise 15: Dictionary popitem()**\n",
    "\n",
    "Create a dictionary with three key-value pairs. Call `popitem()` and print both the returned item and the dictionary after."
   ]
  },
  {
   "cell_type": "code",
   "execution_count": null,
   "id": "30",
   "metadata": {},
   "outputs": [],
   "source": []
  },
  {
   "cell_type": "markdown",
   "id": "31",
   "metadata": {},
   "source": [
    "**Exercise 16: Reverse a List**\n",
    "\n",
    "Write a program that creates a list of numbers from 1 to 5 and then reverses it in place."
   ]
  },
  {
   "cell_type": "code",
   "execution_count": null,
   "id": "32",
   "metadata": {},
   "outputs": [],
   "source": []
  },
  {
   "cell_type": "markdown",
   "id": "33",
   "metadata": {},
   "source": [
    "\n",
    "**Exercise 17: Nested Loop with Condition**\n",
    "\n",
    "Print a multiplication table (1–5) but skip printing results where the product is greater than 12.\n",
    "\n",
    "expected output:\n",
    "\n",
    "1 x 1 = 1  \n",
    "1 x 2 = 2   \n",
    "1 x 3 = 3   \n",
    "1 x 4 = 4   \n",
    "1 x 5 = 5   \n",
    "\n",
    "2 x 1 = 2   \n",
    "2 x 2 = 4   \n",
    "2 x 3 = 6   \n",
    "2 x 4 = 8   \n",
    "2 x 5 = 10   \n",
    "\n",
    "3 x 1 = 3   \n",
    "3 x 2 = 6   \n",
    "3 x 3 = 9   \n",
    "3 x 4 = 12   \n",
    "\n",
    "4 x 1 = 4  \n",
    "4 x 2 = 8   \n",
    " \n",
    "5 x 1 = 5   \n",
    "5 x 2 = 10   \n"
   ]
  },
  {
   "cell_type": "code",
   "execution_count": null,
   "id": "34",
   "metadata": {},
   "outputs": [],
   "source": []
  },
  {
   "cell_type": "markdown",
   "id": "35",
   "metadata": {},
   "source": [
    "**Exercise 18: Grades Dictionary**\n",
    "\n",
    "Create a dictionary of students where each value is a list of grades. Example:\n",
    "```python\n",
    "students = {\"Alice\": [90, 85], \"Bob\": [70, 75]}\n",
    "```\n",
    "Loop through and print each student’s name and their average grade."
   ]
  },
  {
   "cell_type": "code",
   "execution_count": null,
   "id": "36",
   "metadata": {},
   "outputs": [],
   "source": []
  },
  {
   "cell_type": "markdown",
   "id": "37",
   "metadata": {},
   "source": [
    "**Exercise 19: List of Dictionaries Fix**\n",
    "\n",
    "You are given a list of dictionaries representing items for sale:\n",
    "```python\n",
    "items = [\n",
    "    {\"name\": \"Pen\", \"qty\": 10, \"price\": 2, \"total\": 25},  # wrong\n",
    "    {\"name\": \"Book\", \"qty\": 3, \"price\": 10, \"total\": 30}\n",
    "]\n",
    "```\n",
    "Loop through and fix any incorrect `total` values."
   ]
  },
  {
   "cell_type": "code",
   "execution_count": null,
   "id": "38",
   "metadata": {},
   "outputs": [],
   "source": []
  },
  {
   "cell_type": "markdown",
   "id": "39",
   "metadata": {},
   "source": [
    "**Exercise 20: Unique Words**\n",
    "\n",
    "Given a string sentence, split it into words and create a set of unique words. Print the set and its length."
   ]
  },
  {
   "cell_type": "code",
   "execution_count": null,
   "id": "40",
   "metadata": {},
   "outputs": [],
   "source": []
  }
 ],
 "metadata": {
  "kernelspec": {
   "display_name": "venv (3.10.18)",
   "language": "python",
   "name": "python3"
  },
  "language_info": {
   "codemirror_mode": {
    "name": "ipython",
    "version": 3
   },
   "file_extension": ".py",
   "mimetype": "text/x-python",
   "name": "python",
   "nbconvert_exporter": "python",
   "pygments_lexer": "ipython3",
   "version": "3.10.18"
  }
 },
 "nbformat": 4,
 "nbformat_minor": 5
}
