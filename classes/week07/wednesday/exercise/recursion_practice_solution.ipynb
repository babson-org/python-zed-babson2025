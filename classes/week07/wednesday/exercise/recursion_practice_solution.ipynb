{
 "cells": [
  {
   "cell_type": "markdown",
   "id": "eff0fbfb",
   "metadata": {},
   "source": [
    "# 🧩 Recursion Practice Problems\n",
    "These exercises give you hands-on practice with recursion in Python.\n",
    "Each problem includes a short description followed by an empty code block — fill in your own solution!"
   ]
  },
  {
   "cell_type": "markdown",
   "id": "80791047",
   "metadata": {},
   "source": [
    "## 1️⃣ Reverse a String\n",
    "Write a recursive function `reverse(s)` that returns the reverse of a string."
   ]
  },
  {
   "cell_type": "code",
   "execution_count": null,
   "id": "2",
   "metadata": {},
   "outputs": [],
   "source": [
    "# TODO: Implement reverse(s)\n",
    "def reverse(txt):\n",
    "    if txt == '': return ''\n",
    "    else: return reverse(txt[1:]) + txt[0]\n",
    "\n",
    "txt = 'hello'\n",
    "print(reverse(txt))\n",
    "\n",
    "x=''' \n",
    "'olleh'\n",
    "└─  return reverse('ello') + 'h'\n",
    "        └─ return reverse('llo') + 'e'\n",
    "            └─ return reverse('lo') + 'l'\n",
    "                └─ return reverse('o') + 'l'\n",
    "                    └─ return reverse('') + 'o'\n",
    "                        return ''\n",
    "                        reverse('') \n",
    "                    reverse('')  + txt[0] \n",
    "                reverse('o') + txt[0] \n",
    "             reverse('lo') + txt[0] \n",
    "        reverse('llo') + txt[0] \n",
    "    reverse('ello') + txt[0]\n",
    "reverse('hello')\n",
    "\n",
    "'''"
   ]
  },
  {
   "cell_type": "markdown",
   "id": "b438b95c",
   "metadata": {},
   "source": [
    "## 2️⃣ Palindrome Check\n",
    "Write a recursive function `is_palindrome(s)` that returns `True` if the string reads the same forward and backward."
   ]
  },
  {
   "cell_type": "code",
   "execution_count": null,
   "id": "4",
   "metadata": {},
   "outputs": [],
   "source": [
    "# TODO: Implement is_palindrome(s)\n",
    "def is_palindrone(txt):    \n",
    "    if len(txt) <= 1: return True\n",
    "    elif  txt[0] != txt[-1]: return False\n",
    "    else: return(is_palindrone(txt[1:-1]))\n",
    "\n",
    "print(is_palindrone('racecar'))\n",
    "\n",
    "x=''' \n",
    "True\n",
    "    └─ return is_palindrone('aceca') ... True\n",
    "        └─ return is_palindrome('cec') which returns is_palindrome('e') which returns True\n",
    "            └─ return True\n",
    "            is_palindrome('e') \n",
    "        is_palindrome('cec') \n",
    "    is_palindrome('aceca') \n",
    "is_palindrome('racecar') \n",
    "\n",
    "'''"
   ]
  },
  {
   "cell_type": "markdown",
   "id": "096f6e39",
   "metadata": {},
   "source": [
    "## 3️⃣ Count Occurrences\n",
    "Write a recursive function `count_occurrences(lst, target)` that counts how many times `target` appears in the list."
   ]
  },
  {
   "cell_type": "code",
   "execution_count": null,
   "id": "6",
   "metadata": {},
   "outputs": [],
   "source": [
    "# TODO: Implement count_occurrences(lst, target)\n",
    "def count_occurrences(lst, target):\n",
    "    \n",
    "    \n",
    "    if len(lst) == 0: return 0\n",
    "    elif lst[0] == target: return 1 + count_occurrences(lst[1:], target)\n",
    "    else: return 0 + count_occurrences(lst[1:], target)\n",
    "\n",
    "lst = [1,2,2,3,4,2]\n",
    "print(count_occurrences(lst, 2))\n",
    "\n",
    "x=''' \n",
    "3\n",
    "└─ return 0 + count_occurrences([2,2,3,4,2], 2)         -> lst = [1,2,2,3,4,2] -> 0 + 1 + 1 + 0 + 0 + 1 + 0 \n",
    "    └─ return 1 + count_occurrences([2,3,4,2], 2)         -> lst = [2,2,3,4,2] -> 1 + 1 + 0 + 0 + 1 + 0 ...\n",
    "        └─ return 1 + count_occurrences([3,4,2], 2)         -> lst = [2,3,4,2] -> 1 + 0 + 0 + 1 + 0 ...\n",
    "            └─ return 0 + count_occurrences([4,2], 2)         -> lst = [3,4,2] -> 0 + 0 + 1 + 0  ...\n",
    "                └─ return 0 + count_occurrences([2], 2)         -> lst = [4,2] -> 0 + 1 + 0 + ...\n",
    "                    └─ return 1 + count_occurrences([], 2)        -> lst = [2] -> 1 + 0 + ...\n",
    "                        └─ return 0                                            -> 0\n",
    "                        count_occurrences([]) \n",
    "                    count_occurrences([2])\n",
    "                count_occurrences([4,2])\n",
    "            count_occurrences([3,4,2])\n",
    "        count_occurrences([2,3,4,2])\n",
    "    count_occurrences([2,2,3,4,2])\n",
    "count_occurrences([1,2,2,3,4,2])\n",
    "\n",
    "'''"
   ]
  },
  {
   "cell_type": "markdown",
   "id": "c3eac5bf",
   "metadata": {},
   "source": [
    "\n",
    "## 4️⃣ Sum of Digits\n",
    "Write a recursive function `sum_digits(n)` that returns the sum of the digits of a non-negative integer."
   ]
  },
  {
   "cell_type": "code",
   "execution_count": null,
   "id": "8",
   "metadata": {},
   "outputs": [],
   "source": [
    "# TODO: Implement sum_digits(n)\n",
    "def sum_digits(n):\n",
    "\n",
    "    if n == 0: return 0\n",
    "    else: return n % 10 + sum_digits(n // 10)\n",
    "\n",
    "print(sum_digits(123))\n",
    "\n",
    "x=''' \n",
    "6\n",
    "    └─ return 3 + sum_digits(12)        -> 3 + 2 + 1 + 0\n",
    "        └─ return 2 + sum_digits(1)     -> 2 + 1 + 0 \n",
    "            └─ return 1 + sum_digits(0) -> 1 + 0\n",
    "                └─ return 0\n",
    "                1 + sum_digits(0) \n",
    "            2 + sum_digits(1) \n",
    "        3 + sum_digits(12) \n",
    "    sum_digits(123) \n",
    "\n",
    "\n",
    "'''\n"
   ]
  },
  {
   "cell_type": "markdown",
   "id": "6558c87b",
   "metadata": {},
   "source": [
    "## 5️⃣ Power Function\n",
    "Write a recursive function `power(a, b)` that returns a to the power of b (a^b)."
   ]
  },
  {
   "cell_type": "code",
   "execution_count": null,
   "id": "10",
   "metadata": {},
   "outputs": [],
   "source": [
    "# TODO: Implement power(a, b)\n",
    "def power(a, b):\n",
    "\n",
    "    if (b == 0): return 1\n",
    "    else: return a * power(a, b - 1)\n",
    "\n",
    "print(power(2, 5))\n",
    "\n",
    "x=''' \n",
    "32\n",
    "└─ return 2 * power(2, 4)                 -> 2 X 2 X 2 X 2 X 2 × 1\n",
    "    └─ return 2 * power(2, 3)             -> 2 X 2 X 2 X 2 X 1\n",
    "        └─ return 2 * power(2, 2)         -> 2 X 2 X 2 X 1\n",
    "            └─ return 2 * power(2, 1)     -> 2 X 2 X 1\n",
    "                └─ return 2 * power(2, 0) -> 2 X 1\n",
    "                    └─ return 1\n",
    "                    power(2, 0)\n",
    "\n",
    "                power(2, 1)\n",
    "                \n",
    "            power(2, 2)\n",
    "        power(2, 3)\n",
    "    power(2, 4)\n",
    "power(2, 5)\n",
    "\n",
    "\n",
    "'''\n",
    "\n"
   ]
  },
  {
   "cell_type": "markdown",
   "id": "ae684e33",
   "metadata": {},
   "source": [
    "## 6️⃣ Find Maximum in a List\n",
    "Write a recursive function `find_max(lst)` that returns the largest element in the list.\n",
    "You may use an index parameter to avoid slicing."
   ]
  },
  {
   "cell_type": "code",
   "execution_count": null,
   "id": "12",
   "metadata": {},
   "outputs": [],
   "source": [
    "# TODO: Implement find_max(lst)\n",
    "def find_max(lst):\n",
    "    float('-inf')\n",
    "    if len(lst) == 0: return  float('-inf')\n",
    "    else:        \n",
    "        return max(lst[0], find_max(lst[1:]))\n",
    "\n",
    "print(find_max([1,2,3,45,3]))\n",
    "\n",
    "x=''' \n",
    "45\n",
    "└─ return max(1, find_max([2, 3, 45, 4]))       -> max(1, [2, 3, 45, 4) -> 45\n",
    "    └─ return max(2, find_max([3, 45, 4]))      -> max(2, [3, 45, 4])   -> 45\n",
    "        └─ return max(3, find_max([45, 4]))     -> max(3, [45,4])       -> 45\n",
    "            └─ return max(45, find_max([4]))    -> max(45, [4])         -> 45\n",
    "                └─ return max(4, find_max([]))  -> max(4, -inf)         ->  4 \n",
    "                    └─ return float('-inf')\n",
    "                    max(4, find_max([]) \n",
    "                max(45, find_max([4])\n",
    "            max(3, find_max([45, 4]) \n",
    "        max(2, find_max([3, 45, 4]) \n",
    "    max(1, find_max([2, 3, 45, 4])\n",
    "find_max([1, 2, 3, 45, 4]) \n",
    "\n",
    "\n",
    "'''\n"
   ]
  },
  {
   "cell_type": "markdown",
   "id": "24c21f1a",
   "metadata": {},
   "source": [
    "## 7️⃣ Product of Elements in a List\n",
    "Write a recursive function `product(lst)` that returns the product of all elements in a list.\n",
    "Return 1 for an empty list."
   ]
  },
  {
   "cell_type": "code",
   "execution_count": null,
   "id": "14",
   "metadata": {},
   "outputs": [],
   "source": [
    "# TODO: Implement product(lst)\n",
    "def product(lst):\n",
    "    if len(lst) == 0: return 1\n",
    "    else: return lst[0] * product(lst[1:])\n",
    "\n",
    "print(product([1, 2 ,4, 8]))\n",
    "\n",
    "x='''   \n",
    "64\n",
    "└─ return 1 * product([2, 4, 8])        -> 1 X 2 X 4 X 8 X 1\n",
    "    └─ return 2 * product([4, 8])       -> 2 X 4 X 8 X 1\n",
    "        └─ return 4 * product([8])      -> 4 X 8 X 1\n",
    "            └─ return 8 * product([])   -> 8 X 1\n",
    "                └─ return 1\n",
    "                8 * product([]) \n",
    "            4 * product([8])\n",
    "        2 * product([4, 8])\n",
    "    1 * product([2, 4, 8])\n",
    "product([1, 2, 4, 8]) \n",
    "\n",
    "\n",
    "'''\n"
   ]
  },
  {
   "cell_type": "markdown",
   "id": "10ff5354",
   "metadata": {},
   "source": [
    "## 8️⃣ Flatten a Nested List\n",
    "Write a recursive function `flatten(lst)` that takes a nested list and returns a single flat list.\n",
    "Example: `[1, [2, [3, 4]], 5] → [1, 2, 3, 4, 5]`"
   ]
  },
  {
   "cell_type": "code",
   "execution_count": null,
   "id": "16",
   "metadata": {},
   "outputs": [],
   "source": [
    "# TODO: Implement flatten(lst)\n",
    "def flatten(lst):    \n",
    "\n",
    "    if len(lst) == 0: return []\n",
    "\n",
    "    elif isinstance(lst[0], list): return flatten(lst[0]) + flatten(lst[1:])\n",
    "\n",
    "    else: return [lst[0]] + flatten(lst[1:])\n",
    "\n",
    "lst = [1, [2, [3, 4]], 5] \n",
    "print(flatten(lst))\n",
    "\n",
    "x='''\n",
    "    [1, 2 ,3, 4, 5]\n",
    "        └─ return [1] + [2, 3, 4, 5]\n",
    "            └─ return [2, 3, 4] + [5]\n",
    "                └─ return [2] + [3, 4]\n",
    "                    └─ return [3] + [4]\n",
    "                        └─ return [4] + []\n",
    "                            └─ return []\n",
    "                            [lst[0]] + flatten(lst[1:])  -> [4] + flatten([])\n",
    "                        [lst[0]] + flatten(lst[1:])      -> [3] + flatten([4])\n",
    "                    flatten(lst[0]) + flatten(lst[1:])   -> flatten([3, 4]) + flatten([])\n",
    "                [lst[0]] + flatten(lst[1:])              -> [2] + flatten([[3, 4]])\n",
    "            flatten(lst[0]) + flatten(lst[1:])           -> flatten([2, [3, 4]]) + flatten([5])\n",
    "        [lst[0]] + flatten(lst[1:])                      -> [1] + flatten([[2, [3, 4]], 5])\n",
    "    flatten([1, [2, [3, 4]], 5])\n",
    "    '''"
   ]
  },
  {
   "cell_type": "markdown",
   "id": "081abef6",
   "metadata": {},
   "source": [
    "## 9️⃣ Print Numbers in Binary\n",
    "Write a recursive function `to_binary(n)` that prints the binary representation of a non-negative integer."
   ]
  },
  {
   "cell_type": "code",
   "execution_count": null,
   "id": "18",
   "metadata": {},
   "outputs": [],
   "source": [
    "# TODO: Implement to_binary(n)\n",
    "def to_binary(n):\n",
    "    if n <= 1: return n\n",
    "    else: return str(to_binary(n // 2)) + str(n % 2) \n",
    "\n",
    "print(to_binary(13))\n"
   ]
  },
  {
   "cell_type": "markdown",
   "id": "8d6a5c90",
   "metadata": {},
   "source": [
    "## 10. Draw a Triangle of Stars\n",
    "\n",
    "Write a recursive function `triangle(n)` that prints a right-angled triangle with `n` rows of `*`.\n",
    "\n",
    "Example for n=4:\n",
    "```\n",
    "*\n",
    "**\n",
    "***\n",
    "****\n",
    "```\n"
   ]
  },
  {
   "cell_type": "code",
   "execution_count": null,
   "id": "a6d8a3f5",
   "metadata": {},
   "outputs": [],
   "source": [
    "# TODO: Implement triangle(n)\n",
    "def triangle1(n):\n",
    "    \n",
    "    if n == 1: print('*')\n",
    "    else: triangle1(n - 1)\n",
    "    print('*' * n)\n",
    "\n",
    "# Test your function\n",
    "triangle1(4)\n",
    "\n",
    "def triangle2(n, start = 1):\n",
    "    \n",
    "    if n == 0: return\n",
    "    else: \n",
    "        print('*' * start)\n",
    "        triangle2(n - 1, start + 1)\n",
    "\n",
    "# Test your function\n",
    "triangle2(4)\n"
   ]
  }
 ],
 "metadata": {
  "kernelspec": {
   "display_name": "venv",
   "language": "python",
   "name": "python3"
  },
  "language_info": {
   "codemirror_mode": {
    "name": "ipython",
    "version": 3
   },
   "file_extension": ".py",
   "mimetype": "text/x-python",
   "name": "python",
   "nbconvert_exporter": "python",
   "pygments_lexer": "ipython3",
   "version": "3.10.18"
  }
 },
 "nbformat": 4,
 "nbformat_minor": 5
}
