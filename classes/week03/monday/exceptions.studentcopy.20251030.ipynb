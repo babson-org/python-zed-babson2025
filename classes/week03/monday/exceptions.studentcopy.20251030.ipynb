{
 "cells": [
  {
   "cell_type": "code",
   "execution_count": null,
   "id": "0",
   "metadata": {},
   "outputs": [],
   "source": [
    "\n",
    "\n",
    "\n",
    "txt = 'Enter an even number between 1 and 10: '\n",
    "while True:\n",
    "    try:\n",
    "        num = int(input(txt))\n",
    "        '''\n",
    "        if we place a break here we break out of the while loop immediately        \n",
    "        '''\n",
    "        \n",
    "    except ValueError:\n",
    "        # ValueError: the only thing that could create a run time error here (in this code)\n",
    "        print('no text allowed, try again')\n",
    "    else:\n",
    "        '''\n",
    "        The else statement will run if the input was successful.\n",
    "        Now you can check multiple conditions with an if statement\n",
    "        and stay in the while loop until you get correct input\n",
    "        '''\n",
    "        if num % 2 != 0:\n",
    "            print('enter even number, try again')\n",
    "        elif num < 1 or num > 10:\n",
    "            print('Enter a integer between 1 and 10')\n",
    "        else:\n",
    "            '''\n",
    "            if everything is ok, break out of the while loop\n",
    "            '''\n",
    "            break\n",
    "print(f'Yahoo, you entered {num}, a even number between 1 and 10')\n",
    "\n",
    "\n",
    "\n",
    "\n"
   ]
  }
 ],
 "metadata": {
  "kernelspec": {
   "display_name": "venv",
   "language": "python",
   "name": "python3"
  },
  "language_info": {
   "codemirror_mode": {
    "name": "ipython",
    "version": 3
   },
   "file_extension": ".py",
   "mimetype": "text/x-python",
   "name": "python",
   "nbconvert_exporter": "python",
   "pygments_lexer": "ipython3",
   "version": "3.10.18"
  }
 },
 "nbformat": 4,
 "nbformat_minor": 5
}
