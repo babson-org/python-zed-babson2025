{
 "cells": [
  {
   "cell_type": "code",
   "execution_count": null,
   "id": "ba5a3baf",
   "metadata": {},
   "outputs": [],
   "source": [
    "# ==============================\n",
    "# Part 1: Draw a Diamond\n",
    "# ==============================\n",
    "def draw_diamond():\n",
    "    \"\"\"\n",
    "    Ask the user for an odd number for the diamond height\n",
    "    and print a symmetric diamond of that height.\n",
    "    \"\"\"\n",
    "\n",
    "    # TODO: Prompt user for an odd number\n",
    "\n",
    "    # TODO: Draw the top half of the diamond\n",
    "\n",
    "    # TODO: Draw the bottom half of the diamond\n",
    "# Uncomment to test Part 1\n",
    "# ============MY COMPUTATIONAL THINKING ======================\n",
    "### Ensure user inputs an odd number ###\n",
    "# \n",
    "\n",
    "# =============== MY CODE ===========================\n",
    "# draw_diamond()\n",
    "### Ensure user inputs an odd number and define height ###\n",
    "while True:\n",
    "    try:\n",
    "        height = int(input(\"Enter an odd number: \"))\n",
    "        if height % 2 == 1: \n",
    "            break\n",
    "        else:\n",
    "            print(\"The number must be odd. Try again: \")\n",
    "    except ValueError:\n",
    "        print(\"Refer to directions, please try again\")\n",
    "\n",
    "### Top half of diamond ###\n",
    "# Define middle of diamond parameters in terms of height #\n",
    "middle = height//2\n",
    "\n",
    "# Setting spacing before and between stars - middle+1 makes sure formatting is mirrored longitudinally#\n",
    "for idx in range (middle, -1, -1):\n",
    "    before = \" \"*idx\n",
    "    between = \" \" * ((middle-idx)*2-1)\n",
    "    if (middle-idx*2-1 == -1):\n",
    "        print('did we get here')\n",
    "        print(before+\"*\")\n",
    "    else:\n",
    "        print(before + \"*\" + between + \"*\")\n",
    "\n",
    "### Bottom half of code ###\n",
    "for idx in range (1, middle+1 ):\n",
    "    before = \" \" * idx\n",
    "    between = \" \" * ((middle-idx)*2-1)\n",
    "    if (middle-idx*2-1 == -1):\n",
    "        print(before+\"*\")\n",
    "    else:\n",
    "     print(before + \"*\" + between + \"*\")"
   ]
  }
 ],
 "metadata": {
  "kernelspec": {
   "display_name": "venv (3.10.18)",
   "language": "python",
   "name": "python3"
  },
  "language_info": {
   "codemirror_mode": {
    "name": "ipython",
    "version": 3
   },
   "file_extension": ".py",
   "mimetype": "text/x-python",
   "name": "python",
   "nbconvert_exporter": "python",
   "pygments_lexer": "ipython3",
   "version": "3.10.18"
  }
 },
 "nbformat": 4,
 "nbformat_minor": 5
}
