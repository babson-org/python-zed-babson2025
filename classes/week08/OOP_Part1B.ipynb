{
 "cells": [
  {
   "cell_type": "markdown",
   "id": "90e871e7",
   "metadata": {},
   "source": [
    "# 🏦 Object-Oriented Programming (OOP) — Part 1B\n",
    "### Building and Extending the Vault Class"
   ]
  },
  {
   "cell_type": "markdown",
   "id": "4992e3f2",
   "metadata": {},
   "source": [
    "In this session you'll combine everything from Part 1A to design a more complex class that models a cash vault."
   ]
  },
  {
   "cell_type": "markdown",
   "id": "031f540d",
   "metadata": {},
   "source": [
    "## 🎯 Learning Objectives\n",
    "- Implement multi-attribute classes  \n",
    "- Write methods that perform calculations and validation  \n",
    "- Use multiple objects together (Vault → Vault transfer)"
   ]
  },
  {
   "cell_type": "markdown",
   "id": "ed9137c1",
   "metadata": {},
   "source": [
    "### 💰 Exercise 1 – Building a `Vault` Class\n",
    "**Instructions**\n",
    "1. Complete the constructor by assigning all denominations.  \n",
    "2. Implement `getBalance()` to compute the total value.  \n",
    "3. Run the test cell."
   ]
  },
  {
   "cell_type": "code",
   "execution_count": null,
   "id": "cf6b59fd",
   "metadata": {},
   "outputs": [],
   "source": [
    "class Vault:\n",
    "    def __init__(self, ones=0, fives=0, tens=0, twenties=0, fifties=0, hundreds=0):\n",
    "        # Initialize the Vault with the number of bills for each denomination.\n",
    "        # TODO: assign remaining parameters as instance attributes\n",
    "        self.ones = ones\n",
    "        ...\n",
    "\n",
    "    def getBalance(self):\n",
    "        # TODO: compute and return total cash value\n",
    "        return (self.ones +\n",
    "                ...  # complete this expression\n",
    "                )\n",
    "\n",
    "    def __str__(self):\n",
    "        return f'My balance is ${self.getBalance():,.2f}'"
   ]
  },
  {
   "cell_type": "code",
   "execution_count": null,
   "id": "cfed0126",
   "metadata": {},
   "outputs": [],
   "source": [
    "bob = Vault(ones=5, fives=3, tens=2)\n",
    "print(bob)  # Expected: My balance is $45.00"
   ]
  },
  {
   "cell_type": "markdown",
   "id": "efa12422",
   "metadata": {},
   "source": [
    "### ➕ Exercise 2 – Add and Withdraw Cash\n",
    "Add methods:\n",
    "- `addCash()` — adds bills  \n",
    "- `withdrawCash()` — removes bills but blocks negatives"
   ]
  },
  {
   "cell_type": "code",
   "execution_count": null,
   "id": "b758fd28",
   "metadata": {},
   "outputs": [],
   "source": [
    "# HINT scaffold\n",
    "def addCash(self, ones=0, fives=0, tens=0, twenties=0, fifties=0, hundreds=0):\n",
    "    \"\"\"Add bills to the vault.\"\"\"\n",
    "    ...\n",
    "\n",
    "def withdrawCash(self, ones=0, fives=0, tens=0, twenties=0, fifties=0, hundreds=0):\n",
    "    \"\"\"Withdraw bills if available; otherwise show an error message.\"\"\"\n",
    "    ..."
   ]
  },
  {
   "cell_type": "markdown",
   "id": "b42975a5",
   "metadata": {},
   "source": [
    "### 📊 Exercise 3 – Summary Table\n",
    "Add a method `summary()` that prints:\n",
    "```\n",
    "Denomination | Count | Value\n",
    "------------- | ------|--------\n",
    "1s            |   10  | $10\n",
    "5s            |    3  | $15\n",
    "...\n",
    "Total Balance: $123.00\n",
    "```"
   ]
  },
  {
   "cell_type": "markdown",
   "id": "361e3bfb",
   "metadata": {},
   "source": [
    "### 🔁 Exercise 4 – Transfer Between Vaults (Challenge)\n",
    "Create `transfer(self, other_vault, amount)`:\n",
    "- Verify `self` has enough total  \n",
    "- Withdraw the amount  \n",
    "- Deposit it into `other_vault`  \n",
    "- Print confirmation"
   ]
  },
  {
   "cell_type": "markdown",
   "id": "10e5a3fb",
   "metadata": {},
   "source": [
    "### 🧠 Reflection\n",
    "1. Why do we keep all vault logic *inside* the class?  \n",
    "2. What happens if we try to withdraw more than we have?  \n",
    "3. How would you extend the Vault to handle coins or digital transfers?"
   ]
  },
  {
   "cell_type": "markdown",
   "id": "4cd01af4",
   "metadata": {},
   "source": [
    "### 🏁 OOP Part 1B Summary\n",
    "| Concept | Description |\n",
    "|----------|-------------|\n",
    "| Encapsulation | Keep data + behavior together |\n",
    "| Initialization | `__init__()` sets up state |\n",
    "| Representation | `__str__()` for readable output |\n",
    "| State Change | Methods modify object data |\n",
    "| Collaboration | Classes interact with each other |"
   ]
  }
 ],
 "metadata": {},
 "nbformat": 4,
 "nbformat_minor": 5
}
