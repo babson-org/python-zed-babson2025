{
 "cells": [
  {
   "cell_type": "markdown",
   "id": "e61c44f9",
   "metadata": {},
   "source": [
    "# 13 - Conditional Logic\n",
    "Ask the user for a number and print whether it is positive, negative, or zero."
   ]
  },
  {
   "cell_type": "code",
   "execution_count": null,
   "id": "58261fd4",
   "metadata": {},
   "outputs": [],
   "source": [
    "while True:\n",
    "    txt = 'Please input a number: '\n",
    "    try:\n",
    "        num = int(input(txt))\n",
    "        break\n",
    "    except ValueError:\n",
    "        txt = 'my kingdom for a number: '\n",
    "\n",
    "if num > 0:\n",
    "    print('positive')\n",
    "elif num < 0:\n",
    "    print('negative')\n",
    "else:\n",
    "    print('zero')"
   ]
  },
  {
   "cell_type": "markdown",
   "id": "c5819a54",
   "metadata": {},
   "source": [
    "# 14 - Even/Odd Check\n",
    "Ask the user for a number and print if it is even or odd."
   ]
  },
  {
   "cell_type": "code",
   "execution_count": null,
   "id": "86e65c0d",
   "metadata": {},
   "outputs": [],
   "source": [
    "while True:\n",
    "    txt = 'Please input a number: '\n",
    "    try:\n",
    "        num = int(input(txt))\n",
    "        break\n",
    "    except ValueError:\n",
    "        txt = 'my kingdom for a number: '\n",
    "\n",
    "if num % 2 == 0:\n",
    "    print('even')\n",
    "else:\n",
    "    print('odd')"
   ]
  },
  {
   "cell_type": "markdown",
   "id": "6536e8a0",
   "metadata": {},
   "source": [
    "# 15 - Boolean Operators\n",
    "Ask the user for two numbers and check if both are positive, either is positive, or none is positive."
   ]
  },
  {
   "cell_type": "code",
   "execution_count": null,
   "id": "1cbfc0f2",
   "metadata": {},
   "outputs": [],
   "source": [
    "def input_number():\n",
    "    while True:\n",
    "        txt = 'Please input a number: '\n",
    "        try:\n",
    "            num = int(input(txt))\n",
    "            break\n",
    "        except ValueError:\n",
    "            txt = 'my kingdom for a number: '\n",
    "    return num\n",
    "\n",
    "num1 = input_number()\n",
    "num2 = input_number()\n",
    "\n",
    "if num1 > 0 and num2 > 0:\n",
    "    print('both positive')\n",
    "elif num1 > 0 or num2 > 0:\n",
    "    print('one of these is positive')\n",
    "else:\n",
    "    print('neither is positive')"
   ]
  },
  {
   "cell_type": "markdown",
   "id": "d71d6eff",
   "metadata": {},
   "source": [
    "# 16 - For Loop\n",
    "Print all numbers from 1 to 20, skipping multiples of 3."
   ]
  },
  {
   "cell_type": "code",
   "execution_count": null,
   "id": "a0e34710",
   "metadata": {},
   "outputs": [],
   "source": [
    "for i in range(1, 21):\n",
    "    if i % 3 != 0:\n",
    "        print(i)"
   ]
  },
  {
   "cell_type": "markdown",
   "id": "aeca7473",
   "metadata": {},
   "source": [
    "# 17 - While Loop\n",
    "Ask the user to guess a secret number until they get it right."
   ]
  },
  {
   "cell_type": "code",
   "execution_count": null,
   "id": "992dd595",
   "metadata": {},
   "outputs": [],
   "source": [
    "def input_number():\n",
    "    txt = 'Please input a number (between 1 and 10): '\n",
    "    while True:\n",
    "        try:\n",
    "            num = int(input(txt))\n",
    "            if num < 1 or num > 10: raise Exception\n",
    "            break\n",
    "        except ValueError:\n",
    "            txt = 'my kingdom for a number: '\n",
    "        except Exception:\n",
    "            txt = 'between 1 and 10: '\n",
    "    return num\n",
    "\n",
    "secret = 7\n",
    "while True:\n",
    "    guess = input_number()\n",
    "    if guess == secret:\n",
    "        print('you guess it!')\n",
    "        break"
   ]
  },
  {
   "cell_type": "markdown",
   "id": "e0d75c6a",
   "metadata": {},
   "source": [
    "# 18 - Break / Continue\n",
    "Print numbers 1-10 but stop printing when you reach 7 and skip 3."
   ]
  },
  {
   "cell_type": "code",
   "execution_count": null,
   "id": "0cfb60f3",
   "metadata": {},
   "outputs": [],
   "source": [
    "for i in range(1, 11):\n",
    "    if i == 3:\n",
    "        continue\n",
    "    print(i)\n",
    "    if i == 7:\n",
    "        break"
   ]
  },
  {
   "cell_type": "markdown",
   "id": "76fb7f8e",
   "metadata": {},
   "source": [
    "# 19 - Function Definition\n",
    "Write a function square(x) that returns the square of a number and test it."
   ]
  },
  {
   "cell_type": "code",
   "execution_count": null,
   "id": "3a3fa2bd",
   "metadata": {},
   "outputs": [],
   "source": [
    "def square(x):\n",
    "    return x * x\n",
    "\n",
    "num = 7\n",
    "print(square(num))"
   ]
  },
  {
   "cell_type": "markdown",
   "id": "bad23564",
   "metadata": {},
   "source": [
    "# 20 - Function with Mutable Argument\n",
    "Write a function add_item(lst, item) that appends item to lst and observe the effect on the original list."
   ]
  },
  {
   "cell_type": "code",
   "execution_count": null,
   "id": "b60b847c",
   "metadata": {},
   "outputs": [],
   "source": [
    "myList = [1, 2, 3]\n",
    "def mut_list(lst):\n",
    "    lst.append(4)\n",
    "    print('inside list', lst)\n",
    "\n",
    "mut_list(myList)\n",
    "print('outside list', myList)"
   ]
  },
  {
   "cell_type": "code",
   "execution_count": null,
   "id": "ff077adf",
   "metadata": {},
   "outputs": [],
   "source": [
    "myList = [1, 2, 3]\n",
    "def mut_list(lst):    \n",
    "    lst[0] = 5\n",
    "    print('inside list', lst)    \n",
    "mut_list(myList)\n",
    "print('outside list', myList)"
   ]
  },
  {
   "cell_type": "code",
   "execution_count": null,
   "id": "cd182c97",
   "metadata": {},
   "outputs": [],
   "source": [
    "num = 5\n",
    "def mut_int(x):\n",
    "    x = 6\n",
    "    print('inside mut_int ', x)\n",
    "\n",
    "mut_int(num)\n",
    "print('outside', num)"
   ]
  },
  {
   "cell_type": "code",
   "execution_count": null,
   "id": "1bfc2797",
   "metadata": {},
   "outputs": [],
   "source": [
    "myList = [1, 2, 3]\n",
    "def mut_list(lst):\n",
    "    lst = []\n",
    "    print('inside list', lst)\n",
    "\n",
    "mut_list(myList)\n",
    "print('outside list', myList)"
   ]
  },
  {
   "cell_type": "code",
   "execution_count": null,
   "id": "98329911",
   "metadata": {},
   "outputs": [],
   "source": [
    "myList = [1, 2, 3]\n",
    "def mut_list(lst):\n",
    "    lst.clear()\n",
    "    print('inside list', lst)\n",
    "\n",
    "mut_list(myList)\n",
    "print('outside list', myList)"
   ]
  },
  {
   "cell_type": "markdown",
   "id": "7e177669",
   "metadata": {},
   "source": [
    "# 21 - Comments / Documentation\n",
    "Write a function greet(name) with single-line and multi-line comments explaining each step."
   ]
  },
  {
   "cell_type": "code",
   "execution_count": null,
   "id": "db759c89",
   "metadata": {},
   "outputs": [],
   "source": [
    "\"\"\"\n",
    "This is a doc string. Our\n",
    "greet function asks for a\n",
    "name and then greets the\n",
    "person\n",
    "\"\"\"\n",
    "\n",
    "def greet(name):\n",
    "    # print our greeting\n",
    "    print('hello ' + name)"
   ]
  },
  {
   "cell_type": "markdown",
   "id": "2c2a22a1",
   "metadata": {},
   "source": [
    "# 22 - Combining Tools\n",
    "Ask the user to enter 5 names. Store them in a list, capitalize each name, sort the list, and print it."
   ]
  },
  {
   "cell_type": "code",
   "execution_count": null,
   "id": "a41a1426",
   "metadata": {},
   "outputs": [],
   "source": [
    "names = []\n",
    "for i in range(5):\n",
    "    name = input('please enter a name: ')\n",
    "    name = name.capitalize()\n",
    "    names.append(name)\n",
    "\n",
    "names_sorted = sorted(names)\n",
    "print(names, names_sorted)\n",
    "names.sort()\n",
    "print(names)"
   ]
  }
 ],
 "metadata": {
  "kernelspec": {
   "display_name": "venv",
   "language": "python",
   "name": "python3"
  },
  "language_info": {
   "codemirror_mode": {
    "name": "ipython",
    "version": 3
   },
   "file_extension": ".py",
   "mimetype": "text/x-python",
   "name": "python",
   "nbconvert_exporter": "python",
   "pygments_lexer": "ipython3",
   "version": "3.10.18"
  }
 },
 "nbformat": 4,
 "nbformat_minor": 5
}
