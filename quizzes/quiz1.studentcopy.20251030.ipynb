{
 "cells": [
  {
   "cell_type": "markdown",
   "id": "0",
   "metadata": {},
   "source": [
    "# Lab Exercise: Diamond Printing and Caesar Cipher\n",
    "\n",
    "This quiz contains two questions on loops, string manipulation, and basic cryptography."
   ]
  },
  {
   "cell_type": "markdown",
   "id": "1",
   "metadata": {},
   "source": [
    "## Question 1: Diamond Printing\n",
    "\n",
    "In the code cell below, modify the two `for` loop `range` statements to make the code print out a solid diamond.\n",
    "Your output should look like:\n",
    "\n",
    "```\n",
    "  *\n",
    " ***\n",
    "*****       # if height entered is 5\n",
    " ***\n",
    "  *\n",
    "```"
   ]
  },
  {
   "cell_type": "code",
   "execution_count": null,
   "id": "2",
   "metadata": {},
   "outputs": [],
   "source": [
    "txt = \"Please input a height, an odd integer between 3 and 15 inclusive: \"\n",
    "while True:\n",
    "    try:\n",
    "        height = int(input(txt))\n",
    "    except ValueError:\n",
    "        txt = 'Enter an integer: '        \n",
    "    else:\n",
    "        if(height < 3 or height > 15):\n",
    "            txt = 'between 3 and 15 please: '\n",
    "        elif height % 2 == 0:\n",
    "            txt = ' an odd number please'\n",
    "        else:\n",
    "            break\n",
    "\n",
    "half = height // 2\n",
    "\n",
    "'''\n",
    "Hint:\n",
    "    leading_spaces is already figured out for you.\n",
    "    In each loop we just need to figure out the number of '*\"s \n",
    "    to print out.  Suppose height = 7:    \n",
    "\n",
    "    For the top diamond we need a loop that will generate the sequence\n",
    "    1, 3, 5, 7 think of using height and the step function in range. \n",
    "    Remember range(start,stop,step) will include start but not stop.\n",
    "\n",
    "    In the bottom diamond we need a loop that will generate the sequence\n",
    "    5, 3, 1.  Again, think of using height and the step function in range.\n",
    "    Notice in the top half we end with printing out height number of stars.\n",
    "\n",
    "          *\n",
    "         ***\n",
    "        *****\n",
    "       *******    last line of top half, height number of stars\n",
    "\n",
    "    Each subsequent row prints out 2 '*' s less so a -2 may come in handy (twice!)\n",
    "\n",
    "\n",
    "'''\n",
    "\n",
    "# Top half of diamond\n",
    "leading_spaces = half\n",
    "for star_count in range(1):               # TODO only modify this statement\n",
    "    print(\" \" * leading_spaces + \"*\" * star_count)\n",
    "    leading_spaces -= 1\n",
    "\n",
    "# Bottom half of diamond\n",
    "leading_spaces = 1\n",
    "for star_count in range(1):               # TODO only modify this statement\n",
    "    print(\" \" * leading_spaces + \"*\" * star_count)\n",
    "    leading_spaces += 1"
   ]
  },
  {
   "cell_type": "markdown",
   "id": "3",
   "metadata": {},
   "source": [
    "## Question 2: Caesar Cipher Decryption\n",
    "\n",
    "The program below will decrypt a message using the Caesar cipher. Julius needs to decode the message. Modify the code to try all possible shifts (1 to 25) to find the secret message.\n",
    "\n",
    "Hint: Use `if 'python' in decode_msg:` to check for the correct decoding."
   ]
  },
  {
   "cell_type": "code",
   "execution_count": null,
   "id": "4",
   "metadata": {},
   "outputs": [],
   "source": [
    "import string\n",
    "\n",
    "msg = 'xu ndj vti iwxh bthhpvt, ndj pgt bphitgxcv eniwdc'\n",
    "\n",
    "alphabet = list(string.ascii_lowercase)\n",
    "\n",
    "# TODO: create a loop from 1 to 25 to try all shifts\n",
    "#       decode the message and print the one containing 'python'\n",
    "#       The code below should be inside this loop\n",
    "\n",
    "for i in range():\n",
    "    for shift in range(1):  #TODO fix range\n",
    "\n",
    "        \n",
    "\n",
    "        shifted = [None] * 26\n",
    "        for idx in range(26):\n",
    "            new_idx = (idx - shift) % 26\n",
    "            shifted[new_idx] = alphabet[idx]\n",
    "\n",
    "        decode_msg = ''\n",
    "        for character in msg:\n",
    "            if character.isalpha():\n",
    "                idx = shifted.index(character)\n",
    "                decode_msg += alphabet[idx]\n",
    "            else:\n",
    "                decode_msg += character\n",
    "\n",
    "        # TODO add code to check if python is in the decoded message\n",
    "        # if it is print out the decoded message and the shift value\n",
    "\n",
    "\n"
   ]
  }
 ],
 "metadata": {
  "kernelspec": {
   "display_name": "venv",
   "language": "python",
   "name": "python3"
  },
  "language_info": {
   "codemirror_mode": {
    "name": "ipython",
    "version": 3
   },
   "file_extension": ".py",
   "mimetype": "text/x-python",
   "name": "python",
   "nbconvert_exporter": "python",
   "pygments_lexer": "ipython3",
   "version": "3.10.18"
  }
 },
 "nbformat": 4,
 "nbformat_minor": 5
}
