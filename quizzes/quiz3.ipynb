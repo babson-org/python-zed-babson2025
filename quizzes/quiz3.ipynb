{
 "cells": [
  {
   "cell_type": "markdown",
   "id": "21c90b19",
   "metadata": {},
   "source": [
    "# Quiz 3\n",
    "\n",
    "**Problem:**\n",
    "\n",
    "Create a **recursive function** that deletes consecutive duplicates from a list.\n",
    "\n",
    "Example:\n",
    "```python\n",
    "lst = [1, 1, 1, 2, 2, 1, 3, 2, 2] → [1, 2, 1, 3, 2]\n",
    "```\n",
    "\n",
    "If you are unable to create the function recursively, you can receive **partial credit**   \n",
    "by solving the problem another way — for example, using a **for loop** or **while loop**.\n",
    "\n",
    "---\n",
    "**Function Signature:**\n",
    "```python\n",
    "def remove_consecutive_duplicates(lst):\n",
    "    # TODO: Implement recursively\n",
    "\n",
    "'''\n",
    "Remember: 1) if you add two lists together you get a list. -> [1] + [2, 3] = [1, 2, 3]   ! 1 + [2, 3] -> error\n",
    "          2) if you slice into a list you get a list\n",
    "          3) lst[0] gives you the item.  lst[0] will give you 1 not [1]\n",
    "          4) [lst[0]] or lst[0:1] will give you [1]\n",
    "\n",
    "Hint:     1) Think about your base case. If len(lst) <= 1 you probably just \n",
    "             want to return the lst          \n",
    "          2) Think about comparing lst[0] to lst[1]\n",
    "          3) You have 2 cases now. Either you have a duplicate or you don't\n",
    "          4) If you have a duplicate you just need to call the function with \n",
    "             a smaller list.  Suppose: [1, 1, 1, 2]\n",
    "          5) If you don't have a duplicate you need to return the item as a \n",
    "             list + a call to the function with a smaller list\n",
    "\n",
    "'''"
   ]
  },
  {
   "cell_type": "code",
   "execution_count": null,
   "id": "c33bfa53",
   "metadata": {},
   "outputs": [],
   "source": [
    "# TODO: Implement your solution below\n",
    "\n",
    "def remove_consecutive_duplicates(lst):\n",
    "    pass\n",
    "\n",
    "\n",
    "print('hello')\n",
    "\n",
    "# You can test your function with the example below:\n",
    "\n",
    "lst = [1, 1, 1, 2, 2, 1, 3, 2, 2]\n",
    "#print(remove_consecutive_duplicates(lst))  # Expected: [1,2,1,3,2]"
   ]
  }
 ],
 "metadata": {
  "kernelspec": {
   "display_name": "Python 3",
   "language": "python",
   "name": "python3"
  },
  "language_info": {
   "codemirror_mode": {
    "name": "ipython",
    "version": 3
   },
   "file_extension": ".py",
   "mimetype": "text/x-python",
   "name": "python",
   "nbconvert_exporter": "python",
   "pygments_lexer": "ipython3",
   "version": "3.10.11"
  }
 },
 "nbformat": 4,
 "nbformat_minor": 5
}
